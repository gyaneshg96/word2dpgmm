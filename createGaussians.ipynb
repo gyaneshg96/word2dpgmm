{
 "cells": [
  {
   "cell_type": "code",
   "execution_count": 1,
   "id": "b421c679",
   "metadata": {},
   "outputs": [],
   "source": [
    "import os\n",
    "\n",
    "import matplotlib.pyplot as plt\n",
    "import numpy as np\n",
    "import pandas as pd\n",
    "from tqdm import tqdm\n",
    "\n",
    "import torch\n",
    "import torch.nn.functional as F\n",
    "from torch.distributions import constraints\n",
    "\n",
    "from collections import Counter\n",
    "\n",
    "from sklearn.mixture import GaussianMixture,BayesianGaussianMixture"
   ]
  },
  {
   "cell_type": "code",
   "execution_count": 2,
   "id": "b8bb5f69",
   "metadata": {},
   "outputs": [],
   "source": [
    "directory='wordvectors/bert_entailment/'\n",
    "outdir='wordvectors/gaussians/'"
   ]
  },
  {
   "cell_type": "code",
   "execution_count": 3,
   "id": "fe10e50c",
   "metadata": {},
   "outputs": [],
   "source": [
    "def read_vectors(word):\n",
    "    dir1 = directory + word\n",
    "    count = 0\n",
    "    tensors = []\n",
    "    for f in os.listdir(dir1):\n",
    "        if not f[-3:] == \"txt\":\n",
    "            count += 1\n",
    "            temp = torch.load(dir1+\"/\"+f, map_location=torch.device('cpu'))\n",
    "            tensors.append(temp)\n",
    "    if tensors == []:\n",
    "        return []\n",
    "    return torch.stack(tensors)"
   ]
  },
  {
   "cell_type": "code",
   "execution_count": 9,
   "id": "5fd4c01f",
   "metadata": {},
   "outputs": [],
   "source": [
    "def findGaussians(word):\n",
    "    tensors = read_vectors(word)\n",
    "    if tensors == []:\n",
    "        return []\n",
    "    dpgmm = BayesianGaussianMixture(n_components=10, covariance_type=\"diag\",weight_concentration_prior=0.1,max_iter=200).fit(tensors)\n",
    "    labels = dpgmm.predict(tensors)\n",
    "    counts = Counter(labels).keys()\n",
    "    weights = [dpgmm.weights_[count] for count in counts]\n",
    "    means = [dpgmm.means_[count] for count in counts]\n",
    "    diag_covariances = [dpgmm.covariances_[count] for count in counts]\n",
    "    return weights, means, diag_covariances\n",
    "    "
   ]
  },
  {
   "cell_type": "code",
   "execution_count": null,
   "id": "8e325254",
   "metadata": {},
   "outputs": [],
   "source": [
    "for word in os.listdir(directory):\n",
    "    gaussians = findGaussians(word)\n",
    "    if gaussians == []:\n",
    "        continue\n",
    "    os.mkdir(outdir+word+'/')\n",
    "    for i in range(len(gaussians[0])):\n",
    "        np.savez(outdir+word+'/'+str(i)+'.npz',weights=gaussians[0][i], means = gaussians[1][i], cov=gaussians[2][i])"
   ]
  },
  {
   "cell_type": "code",
   "execution_count": null,
   "id": "5d00d518",
   "metadata": {},
   "outputs": [],
   "source": []
  }
 ],
 "metadata": {
  "kernelspec": {
   "display_name": "Python 3 (ipykernel)",
   "language": "python",
   "name": "python3"
  },
  "language_info": {
   "codemirror_mode": {
    "name": "ipython",
    "version": 3
   },
   "file_extension": ".py",
   "mimetype": "text/x-python",
   "name": "python",
   "nbconvert_exporter": "python",
   "pygments_lexer": "ipython3",
   "version": "3.8.10"
  }
 },
 "nbformat": 4,
 "nbformat_minor": 5
}
