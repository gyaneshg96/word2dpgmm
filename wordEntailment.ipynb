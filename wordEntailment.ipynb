{
 "cells": [
  {
   "cell_type": "code",
   "execution_count": 1,
   "id": "97a7f894",
   "metadata": {},
   "outputs": [],
   "source": [
    "from transformers import BertTokenizer, BertModel\n",
    "from transformers import DistilBertTokenizer, DistilBertModel\n",
    "import spacy\n",
    "import os\n",
    "import random\n",
    "import codecs\n",
    "from time import time\n",
    "from collections import defaultdict\n",
    "import numpy as np"
   ]
  },
  {
   "cell_type": "code",
   "execution_count": 22,
   "id": "b44ee922",
   "metadata": {},
   "outputs": [],
   "source": [
    "wordset = defaultdict(int)"
   ]
  },
  {
   "cell_type": "code",
   "execution_count": 40,
   "id": "485ac380",
   "metadata": {},
   "outputs": [],
   "source": [
    "def readWords(filename):\n",
    "    with open(filename,\"r\") as file:\n",
    "        for line in file:\n",
    "            words = line.split(\"\\t\")\n",
    "#             print(words)\n",
    "            for w in words:\n",
    "                ww = w.split(\"-\")\n",
    "                wordset[ww[0]] += 1\n",
    "\n",
    "readWords(\"eacl2012-data/positive-examples.txtinput\")\n",
    "readWords(\"eacl2012-data/negative-examples.txtinput\")"
   ]
  },
  {
   "cell_type": "code",
   "execution_count": 59,
   "id": "8dbddb62",
   "metadata": {},
   "outputs": [],
   "source": [
    "from collections import Counter\n",
    "c = Counter(wordset)"
   ]
  },
  {
   "cell_type": "code",
   "execution_count": 77,
   "id": "b79738fb",
   "metadata": {},
   "outputs": [
    {
     "data": {
      "text/plain": [
       "1478"
      ]
     },
     "execution_count": 77,
     "metadata": {},
     "output_type": "execute_result"
    }
   ],
   "source": [
    "len(c)"
   ]
  },
  {
   "cell_type": "code",
   "execution_count": 193,
   "id": "c1773c74",
   "metadata": {},
   "outputs": [],
   "source": [
    "sett = c.most_common(150)"
   ]
  },
  {
   "cell_type": "code",
   "execution_count": 194,
   "id": "f15d03d4",
   "metadata": {},
   "outputs": [],
   "source": [
    "mostfreq = {}\n",
    "for i in sett:\n",
    "    mostfreq[i[0]] = i[1]"
   ]
  },
  {
   "cell_type": "code",
   "execution_count": 195,
   "id": "541db584",
   "metadata": {},
   "outputs": [
    {
     "data": {
      "text/plain": [
       "{'animal': 230,\n",
       " 'vertebrate': 152,\n",
       " 'vehicle': 140,\n",
       " 'feeling': 122,\n",
       " 'science': 94,\n",
       " 'worker': 86,\n",
       " 'mammal': 86,\n",
       " 'performer': 78,\n",
       " 'discipline': 76,\n",
       " 'organization': 72,\n",
       " 'building': 72,\n",
       " 'bird': 68,\n",
       " 'food': 66,\n",
       " 'container': 62,\n",
       " 'entertainer': 58,\n",
       " 'disease': 58,\n",
       " 'illness': 52,\n",
       " 'beverage': 52,\n",
       " 'instrument': 50,\n",
       " 'relative': 50,\n",
       " 'emotion': 46,\n",
       " 'solid': 46,\n",
       " 'sport': 46,\n",
       " 'fluid': 44,\n",
       " 'phenomenon': 44,\n",
       " 'insect': 42,\n",
       " 'invertebrate': 42,\n",
       " 'liquid': 40,\n",
       " 'commodity': 40,\n",
       " 'leader': 40,\n",
       " 'housing': 40,\n",
       " 'adult': 38,\n",
       " 'chemical': 36,\n",
       " 'equipment': 36,\n",
       " 'trait': 36,\n",
       " 'integer': 36,\n",
       " 'athlete': 34,\n",
       " 'alcohol': 32,\n",
       " 'tree': 32,\n",
       " 'drug': 32,\n",
       " 'professional': 32,\n",
       " 'molecule': 32,\n",
       " 'tumor': 32,\n",
       " 'document': 30,\n",
       " 'game': 30,\n",
       " 'clothing': 30,\n",
       " 'house': 30,\n",
       " 'information': 30,\n",
       " 'statement': 28,\n",
       " 'organ': 28,\n",
       " 'road': 28,\n",
       " 'garment': 28,\n",
       " 'symbol': 26,\n",
       " 'reptile': 26,\n",
       " 'machine': 26,\n",
       " 'herb': 26,\n",
       " 'dwelling': 26,\n",
       " 'fruit': 26,\n",
       " 'word': 24,\n",
       " 'furniture': 24,\n",
       " 'payment': 24,\n",
       " 'music': 24,\n",
       " 'tissue': 24,\n",
       " 'rodent': 24,\n",
       " 'aircraft': 22,\n",
       " 'therapy': 22,\n",
       " 'player': 22,\n",
       " 'carnivore': 22,\n",
       " 'publication': 22,\n",
       " 'woman': 22,\n",
       " 'dog': 22,\n",
       " 'meal': 22,\n",
       " 'writer': 22,\n",
       " 'greyhound': 22,\n",
       " 'record': 20,\n",
       " 'offspring': 20,\n",
       " 'cancer': 20,\n",
       " 'seafood': 20,\n",
       " 'occupation': 20,\n",
       " 'tool': 20,\n",
       " 'magnitude': 20,\n",
       " 'weapon': 20,\n",
       " 'crystal': 20,\n",
       " 'criminal': 20,\n",
       " 'horse': 20,\n",
       " 'treatment': 20,\n",
       " 'kestrel': 20,\n",
       " 'mesothelioma': 20,\n",
       " 'panda': 20,\n",
       " 'sherry': 20,\n",
       " 'disorder': 18,\n",
       " 'barrier': 18,\n",
       " 'musician': 18,\n",
       " 'vegetable': 18,\n",
       " 'people': 18,\n",
       " 'castle': 18,\n",
       " 'list': 18,\n",
       " 'chick': 18,\n",
       " 'boat': 18,\n",
       " 'employee': 18,\n",
       " 'sensation': 18,\n",
       " 'lingerie': 18,\n",
       " 'vicar': 18,\n",
       " 'serviceman': 16,\n",
       " 'airplane': 16,\n",
       " 'ship': 16,\n",
       " 'bear': 16,\n",
       " 'color': 16,\n",
       " 'wine': 16,\n",
       " 'progenitor': 16,\n",
       " 'art': 16,\n",
       " 'computer': 16,\n",
       " 'liquor': 16,\n",
       " 'ancestor': 16,\n",
       " 'pc': 16,\n",
       " 'doctrine': 14,\n",
       " 'algebra': 14,\n",
       " 'jewelry': 14,\n",
       " 'beer': 14,\n",
       " 'scientist': 14,\n",
       " 'room': 14,\n",
       " 'competitiveness': 14,\n",
       " 'book': 14,\n",
       " 'parent': 14,\n",
       " 'eagle': 14,\n",
       " 'ruler': 14,\n",
       " 'fish': 14,\n",
       " 'storm': 14,\n",
       " 'official': 14,\n",
       " 'melanoma': 14,\n",
       " 'milk': 14,\n",
       " 'piper': 14,\n",
       " 'potato': 14,\n",
       " 'psychoanalysis': 14,\n",
       " 'soprano': 14,\n",
       " 'whiskey': 14,\n",
       " 'thoroughfare': 12,\n",
       " 'priest': 12,\n",
       " 'artillery': 12,\n",
       " 'asp': 12,\n",
       " 'snake': 12,\n",
       " 'hydrocarbon': 12,\n",
       " 'biochemistry': 12,\n",
       " 'biplane': 12,\n",
       " 'merchant': 12,\n",
       " 'misfortune': 12,\n",
       " 'institution': 12,\n",
       " 'collagen': 12,\n",
       " 'protein': 12,\n",
       " 'idea': 12}"
      ]
     },
     "execution_count": 195,
     "metadata": {},
     "output_type": "execute_result"
    }
   ],
   "source": [
    "mostfreq"
   ]
  },
  {
   "cell_type": "code",
   "execution_count": 196,
   "id": "0e48a9bc",
   "metadata": {},
   "outputs": [],
   "source": [
    "tdataset = []\n",
    "fdataset = []\n",
    "def readEntailment(filename, dataset):\n",
    "    with open(filename,\"r\") as file:\n",
    "        for line in file:\n",
    "            words = line.split(\"\\t\")\n",
    "            ll = []\n",
    "            for w in words:\n",
    "                ww = w.split(\"-\")\n",
    "                ll.append(ww[0])\n",
    "#             print(ll)\n",
    "            val = True\n",
    "            for w in ll:\n",
    "                if w not in mostfreq:\n",
    "                    val = False\n",
    "            if val:\n",
    "                dataset.append(ll)\n",
    "\n",
    "readEntailment(\"eacl2012-data/positive-examples.txtinput\", tdataset)\n",
    "readEntailment(\"eacl2012-data/negative-examples.txtinput\", fdataset)"
   ]
  },
  {
   "cell_type": "code",
   "execution_count": 197,
   "id": "f944c8fc",
   "metadata": {},
   "outputs": [],
   "source": [
    "positives = [w+[1] for w in tdataset]"
   ]
  },
  {
   "cell_type": "code",
   "execution_count": 198,
   "id": "cdcfc850",
   "metadata": {},
   "outputs": [],
   "source": [
    "negatives = [w+[0] for w in fdataset]"
   ]
  },
  {
   "cell_type": "code",
   "execution_count": 199,
   "id": "fe21acda",
   "metadata": {},
   "outputs": [
    {
     "data": {
      "text/plain": [
       "[['aircraft', 'vehicle', 1],\n",
       " ['airplane', 'vehicle', 1],\n",
       " ['alcohol', 'fluid', 1],\n",
       " ['algebra', 'science', 1],\n",
       " ['asp', 'reptile', 1],\n",
       " ['asp', 'snake', 1],\n",
       " ['asp', 'vertebrate', 1],\n",
       " ['bear', 'carnivore', 1],\n",
       " ['bear', 'mammal', 1],\n",
       " ['bear', 'vertebrate', 1],\n",
       " ['beer', 'beverage', 1],\n",
       " ['beer', 'liquid', 1],\n",
       " ['beverage', 'fluid', 1],\n",
       " ['beverage', 'liquid', 1],\n",
       " ['biochemistry', 'science', 1],\n",
       " ['biplane', 'aircraft', 1],\n",
       " ['biplane', 'airplane', 1],\n",
       " ['biplane', 'vehicle', 1],\n",
       " ['bird', 'animal', 1],\n",
       " ['castle', 'building', 1],\n",
       " ['castle', 'dwelling', 1],\n",
       " ['castle', 'house', 1],\n",
       " ['castle', 'housing', 1],\n",
       " ['chick', 'animal', 1],\n",
       " ['chick', 'bird', 1],\n",
       " ['chick', 'vertebrate', 1],\n",
       " ['collagen', 'molecule', 1],\n",
       " ['collagen', 'protein', 1],\n",
       " ['competitiveness', 'trait', 1],\n",
       " ['dog', 'carnivore', 1],\n",
       " ['dog', 'mammal', 1],\n",
       " ['dwelling', 'housing', 1],\n",
       " ['eagle', 'animal', 1],\n",
       " ['eagle', 'bird', 1],\n",
       " ['eagle', 'vertebrate', 1],\n",
       " ['employee', 'worker', 1],\n",
       " ['fish', 'animal', 1],\n",
       " ['greyhound', 'animal', 1],\n",
       " ['greyhound', 'dog', 1],\n",
       " ['horse', 'animal', 1],\n",
       " ['horse', 'mammal', 1],\n",
       " ['horse', 'vertebrate', 1],\n",
       " ['house', 'building', 1],\n",
       " ['insect', 'animal', 1],\n",
       " ['invertebrate', 'animal', 1],\n",
       " ['kestrel', 'animal', 1],\n",
       " ['kestrel', 'vertebrate', 1],\n",
       " ['lingerie', 'clothing', 1],\n",
       " ['lingerie', 'garment', 1],\n",
       " ['liquor', 'beverage', 1],\n",
       " ['liquor', 'fluid', 1],\n",
       " ['liquor', 'liquid', 1],\n",
       " ['melanoma', 'cancer', 1],\n",
       " ['melanoma', 'tumor', 1],\n",
       " ['mesothelioma', 'cancer', 1],\n",
       " ['mesothelioma', 'disease', 1],\n",
       " ['mesothelioma', 'illness', 1],\n",
       " ['mesothelioma', 'tumor', 1],\n",
       " ['milk', 'beverage', 1],\n",
       " ['milk', 'fluid', 1],\n",
       " ['milk', 'food', 1],\n",
       " ['milk', 'liquid', 1],\n",
       " ['panda', 'animal', 1],\n",
       " ['panda', 'mammal', 1],\n",
       " ['panda', 'vertebrate', 1],\n",
       " ['parent', 'relative', 1],\n",
       " ['pc', 'computer', 1],\n",
       " ['pc', 'machine', 1],\n",
       " ['piper', 'entertainer', 1],\n",
       " ['piper', 'musician', 1],\n",
       " ['piper', 'performer', 1],\n",
       " ['potato', 'food', 1],\n",
       " ['potato', 'vegetable', 1],\n",
       " ['progenitor', 'ancestor', 1],\n",
       " ['protein', 'molecule', 1],\n",
       " ['psychoanalysis', 'therapy', 1],\n",
       " ['psychoanalysis', 'treatment', 1],\n",
       " ['reptile', 'animal', 1],\n",
       " ['reptile', 'vertebrate', 1],\n",
       " ['rodent', 'animal', 1],\n",
       " ['rodent', 'mammal', 1],\n",
       " ['rodent', 'vertebrate', 1],\n",
       " ['sherry', 'beverage', 1],\n",
       " ['sherry', 'liquid', 1],\n",
       " ['sherry', 'wine', 1],\n",
       " ['snake', 'animal', 1],\n",
       " ['soprano', 'entertainer', 1],\n",
       " ['soprano', 'performer', 1],\n",
       " ['thoroughfare', 'road', 1],\n",
       " ['tumor', 'illness', 1],\n",
       " ['vertebrate', 'animal', 1],\n",
       " ['vicar', 'leader', 1],\n",
       " ['vicar', 'priest', 1],\n",
       " ['weapon', 'instrument', 1],\n",
       " ['whiskey', 'drug', 1],\n",
       " ['whiskey', 'fluid', 1],\n",
       " ['whiskey', 'liquid', 1],\n",
       " ['whiskey', 'liquor', 1],\n",
       " ['wine', 'alcohol', 1],\n",
       " ['wine', 'fluid', 1],\n",
       " ['woman', 'adult', 1]]"
      ]
     },
     "execution_count": 199,
     "metadata": {},
     "output_type": "execute_result"
    }
   ],
   "source": [
    "positives"
   ]
  },
  {
   "cell_type": "code",
   "execution_count": 200,
   "id": "451e67f8",
   "metadata": {},
   "outputs": [],
   "source": [
    "negatives = random.sample(negatives, len(positives))"
   ]
  },
  {
   "cell_type": "code",
   "execution_count": 201,
   "id": "c4541cf1",
   "metadata": {},
   "outputs": [
    {
     "name": "stdout",
     "output_type": "stream",
     "text": [
      "101 101\n"
     ]
    }
   ],
   "source": [
    "print(len(negatives), len(positives))"
   ]
  },
  {
   "cell_type": "code",
   "execution_count": 202,
   "id": "a6ef42df",
   "metadata": {},
   "outputs": [],
   "source": [
    "total = negatives + positives"
   ]
  },
  {
   "cell_type": "code",
   "execution_count": 203,
   "id": "85d7213c",
   "metadata": {},
   "outputs": [],
   "source": [
    "random.shuffle(total)"
   ]
  },
  {
   "cell_type": "code",
   "execution_count": 204,
   "id": "4bd49ed0",
   "metadata": {},
   "outputs": [],
   "source": [
    "outdir='wordvectors/gaussians/'"
   ]
  },
  {
   "cell_type": "code",
   "execution_count": 205,
   "id": "86a1df1d",
   "metadata": {},
   "outputs": [],
   "source": [
    "def KLDivergence(m1,m2,c1,c2):\n",
    "    return 0.5*(np.sum(np.log(c2) - np.log(c1)) - m1.shape[0] + np.sum(np.reciprocal(c2)*c1) + np.dot((m1-m2)*np.reciprocal(c2),(m1-m2)))"
   ]
  },
  {
   "cell_type": "code",
   "execution_count": 206,
   "id": "85a76d24",
   "metadata": {},
   "outputs": [],
   "source": [
    "def findMaxKL(pt):\n",
    "    data1 = np.load(outdir+pt[0]+'/'+'0.npz')\n",
    "    data2 = np.load(outdir+pt[0]+'/'+ '0.npz')"
   ]
  },
  {
   "cell_type": "code",
   "execution_count": 207,
   "id": "20a83852",
   "metadata": {},
   "outputs": [
    {
     "name": "stdout",
     "output_type": "stream",
     "text": [
      "720.5837474959214\n",
      "915.4892913281565\n"
     ]
    }
   ],
   "source": [
    "def findBestKL(pt):\n",
    "    minkl = float('inf')\n",
    "    liss = {}\n",
    "    maxwt1 = 0\n",
    "    maxwt2 = 0\n",
    "    for w in os.listdir(outdir+pt[0]):\n",
    "        data1 = np.load(outdir+pt[0]+'/'+w)\n",
    "        for x in os.listdir(outdir+pt[1]):\n",
    "            data2 = np.load(outdir+pt[1]+'/'+x)\n",
    "            cov1 = data1['cov']\n",
    "            cov2 = data2['cov']\n",
    "            kld = KLDivergence(data1['means'],data2['means'],cov1,cov2)\n",
    "#             print(float(data1['weights']), float(data2['weights']))\n",
    "            liss[(float(data1['weights']), float(data2['weights']))] = kld\n",
    "            maxwt1 = max(maxwt1,float(data1['weights']))\n",
    "            maxwt2 = max(maxwt2,float(data2['weights']))\n",
    "            minkl = min(minkl, kld)\n",
    "#     print(maxwt1,maxwt2)\n",
    "    print(liss[(maxwt1,maxwt2)])\n",
    "#     print(minkl)\n",
    "# findBestKL(['animal','beverage'])\n",
    "findBestKL(['computer','animal'])\n",
    "findBestKL(['animal','computer'])"
   ]
  },
  {
   "cell_type": "code",
   "execution_count": 208,
   "id": "de6573ab",
   "metadata": {},
   "outputs": [],
   "source": [
    "def compareBroadness(pt):\n",
    "    maxwt = 0\n",
    "    for w in os.listdir(outdir+pt[0]):\n",
    "        data1 = np.load(outdir+pt[0]+'/'+w)\n",
    "        for x in os.listdir(outdir+pt[1]):\n",
    "            data2 = np.load(outdir+pt[1]+'/'+x)\n",
    "            cov1 = data1['cov']\n",
    "            cov2 = data2['cov']\n",
    "            val = np.sum(np.log(c2) - np.log(c1))\n",
    "            print(val)\n",
    "    "
   ]
  }
 ],
 "metadata": {
  "kernelspec": {
   "display_name": "Python 3 (ipykernel)",
   "language": "python",
   "name": "python3"
  },
  "language_info": {
   "codemirror_mode": {
    "name": "ipython",
    "version": 3
   },
   "file_extension": ".py",
   "mimetype": "text/x-python",
   "name": "python",
   "nbconvert_exporter": "python",
   "pygments_lexer": "ipython3",
   "version": "3.8.10"
  }
 },
 "nbformat": 4,
 "nbformat_minor": 5
}
